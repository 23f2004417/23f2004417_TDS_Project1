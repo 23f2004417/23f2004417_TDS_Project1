{
  "cells": [
    {
      "cell_type": "code",
      "execution_count": null,
      "metadata": {
        "id": "KgIEhv8BX7kJ"
      },
      "outputs": [],
      "source": [
        "#Scraping of users.csv and repositories.csv datasets for analysis\n",
        "#Basel:10 (Question)\n",
        "import requests\n",
        "import csv\n",
        "\n",
        "#GitHub Token\n",
        "token = '####'\n",
        "\n",
        "def get_detailed_user_info(username, token):\n",
        "    url = f\"https://api.github.com/users/{username}\"\n",
        "    headers = {\n",
        "        \"Authorization\": f\"token {token}\"\n",
        "    }\n",
        "    response = requests.get(url, headers=headers)\n",
        "    return response.json()\n",
        "\n",
        "def clean_company_name(company):\n",
        "    if company:\n",
        "        company = company.strip()\n",
        "        if company.startswith('@'):\n",
        "            company = company[1:]\n",
        "        company = company.upper()\n",
        "    return company\n",
        "\n",
        "def get_users_in_basel_with_over_10_followers(token):\n",
        "    search_url = \"https://api.github.com/search/users\"\n",
        "    headers = {\n",
        "        \"Authorization\": f\"token {token}\"\n",
        "    }\n",
        "    params = {\n",
        "        \"q\": \"location:Basel followers:>10\",\n",
        "        \"per_page\": 100,\n",
        "        \"page\": 1\n",
        "    }\n",
        "\n",
        "    users = []\n",
        "    while True:\n",
        "        response = requests.get(search_url, headers=headers, params=params)\n",
        "        response_data = response.json()\n",
        "        users.extend(response_data.get('items', []))\n",
        "\n",
        "        #Existence of another page\n",
        "        if 'next' not in response.links:\n",
        "            break\n",
        "\n",
        "        params['page'] += 1\n",
        "\n",
        "    detailed_users = []\n",
        "    for user in users:\n",
        "        user_info = get_detailed_user_info(user['login'], token)\n",
        "        user_info['company'] = clean_company_name(user_info.get('company'))\n",
        "        detailed_users.append(user_info)\n",
        "\n",
        "    return detailed_users\n",
        "\n",
        "\n",
        "\n",
        "detailed_users = get_users_in_basel_with_over_10_followers(token)\n",
        "\n",
        "#Users Headers\n",
        "headers = [\"login\", \"name\", \"company\", \"location\", \"email\", \"hireable\",\n",
        "           \"bio\", \"public_repos\", \"followers\", \"following\", \"created_at\"]\n",
        "\n",
        "with open('users.csv', 'w', newline='', encoding='utf-8') as csvfile:\n",
        "    writer = csv.DictWriter(csvfile, fieldnames=headers)\n",
        "    writer.writeheader()\n",
        "    for user in detailed_users:\n",
        "        writer.writerow({\n",
        "            \"login\": user.get(\"login\", \"\"),\n",
        "            \"name\": user.get(\"name\", \"\"),\n",
        "            \"company\": user.get(\"company\", \"\"),\n",
        "            \"location\": user.get(\"location\", \"\"),\n",
        "            \"email\": user.get(\"email\", \"\"),\n",
        "            \"hireable\": str(user.get(\"hireable\", \"\")).lower(),\n",
        "            \"bio\": user.get(\"bio\", \"\"),\n",
        "            \"public_repos\": user.get(\"public_repos\", \"\"),\n",
        "            \"followers\": user.get(\"followers\", \"\"),\n",
        "            \"following\": user.get(\"following\", \"\"),\n",
        "            \"created_at\": user.get(\"created_at\", \"\")\n",
        "        })\n",
        "\n",
        "def get_user_repositories(username, token):\n",
        "    url = f\"https://api.github.com/users/{username}/repos\"\n",
        "    headers = {\n",
        "        \"Authorization\": f\"token {token}\"\n",
        "    }\n",
        "    params = {\n",
        "        \"sort\": \"pushed\",\n",
        "        \"per_page\": 100,\n",
        "        \"page\": 1\n",
        "    }\n",
        "\n",
        "    repositories = []\n",
        "    while True:\n",
        "        response = requests.get(url, headers=headers, params=params)\n",
        "        response_data = response.json()\n",
        "        repositories.extend(response_data)\n",
        "\n",
        "        #Existence of another page\n",
        "        if len(response_data) < 100 or len(repositories) >= 500:\n",
        "            break\n",
        "\n",
        "        params['page'] += 1\n",
        "\n",
        "    return repositories[:500]\n",
        "\n",
        "#Read users from users.csv\n",
        "users = []\n",
        "with open('users.csv', newline='', encoding='utf-8') as csvfile:\n",
        "    reader = csv.DictReader(csvfile)\n",
        "    for row in reader:\n",
        "        users.append(row['login'])\n",
        "\n",
        "#Repo Headers\n",
        "headers = [\"login\", \"full_name\", \"created_at\", \"stargazers_count\",\n",
        "           \"watchers_count\", \"language\", \"has_projects\", \"has_wiki\", \"license_name\"]\n",
        "\n",
        "with open('repositories.csv', 'w', newline='', encoding='utf-8') as csvfile:\n",
        "    writer = csv.DictWriter(csvfile, fieldnames=headers)\n",
        "    writer.writeheader()\n",
        "\n",
        "    for username in users:\n",
        "        repos = get_user_repositories(username, token)\n",
        "        for repo in repos:\n",
        "            #Handling Null License\n",
        "            license_name = None\n",
        "            if repo.get(\"license\") is not None:\n",
        "                license_name = repo[\"license\"].get(\"name\")\n",
        "            writer.writerow({\n",
        "                \"login\": username,\n",
        "                \"full_name\": repo.get(\"full_name\", \"\"),\n",
        "                \"created_at\": repo.get(\"created_at\", \"\"),\n",
        "                \"stargazers_count\": repo.get(\"stargazers_count\", \"\"),\n",
        "                \"watchers_count\": repo.get(\"watchers_count\", \"\"),\n",
        "                \"language\": repo.get(\"language\", \"\"),\n",
        "                \"has_projects\": str(repo.get(\"has_projects\", \"\")).lower(),\n",
        "                \"has_wiki\": str(repo.get(\"has_wiki\", \"\")).lower(),\n",
        "                \"license_name\": license_name or \"\"\n",
        "            })\n"
      ]
    },
    {
      "cell_type": "code",
      "execution_count": null,
      "metadata": {
        "colab": {
          "base_uri": "https://localhost:8080/"
        },
        "id": "w6lQfgesXo1h",
        "outputId": "4f72e584-82ef-45c5-8918-c9db35839fde"
      },
      "outputs": [
        {
          "output_type": "stream",
          "name": "stdout",
          "text": [
            "tarsius,aalmiray,marcoroth,klmr,MrNeRF\n"
          ]
        }
      ],
      "source": [
        "#1\n",
        "import pandas as pd\n",
        "#Read\n",
        "df = pd.read_csv('users.csv')\n",
        "#Sort\n",
        "sorted_df = df.sort_values(by='followers', ascending=False)\n",
        "#Top5\n",
        "top_5_logins = sorted_df['login'].head(5)\n",
        "print(','.join(top_5_logins))\n"
      ]
    },
    {
      "cell_type": "code",
      "execution_count": null,
      "metadata": {
        "colab": {
          "base_uri": "https://localhost:8080/"
        },
        "id": "zhqKLgn6YysG",
        "outputId": "d7d3fb90-a6c3-4e5b-f0a7-b39457d110e8"
      },
      "outputs": [
        {
          "output_type": "stream",
          "name": "stdout",
          "text": [
            "bennyzen,aalmiray,pvillega,tarsius,amaunz\n"
          ]
        }
      ],
      "source": [
        "#2\n",
        "import pandas as pd\n",
        "#Read\n",
        "df = pd.read_csv('users.csv')\n",
        "df['created_at'] = pd.to_datetime(df['created_at'])\n",
        "#Sort\n",
        "sorted_df = df.sort_values(by='created_at', ascending=True)\n",
        "#Top5\n",
        "top_5_logins = sorted_df['login'].head(5)\n",
        "#Print\n",
        "print(','.join(top_5_logins))\n"
      ]
    },
    {
      "cell_type": "code",
      "execution_count": null,
      "metadata": {
        "colab": {
          "base_uri": "https://localhost:8080/"
        },
        "id": "9lkO-wdwZVKB",
        "outputId": "4be27364-2f52-4666-d40b-ba3fdc574729"
      },
      "outputs": [
        {
          "output_type": "stream",
          "name": "stdout",
          "text": [
            "MIT License: 3089\n",
            "Apache License 2.0: 1593\n",
            "Other: 1073\n"
          ]
        }
      ],
      "source": [
        "#3\n",
        "import pandas as pd\n",
        "#Read\n",
        "df = pd.read_csv('repositories.csv')\n",
        "#Filter Missing\n",
        "df = df.dropna(subset=['license_name'])\n",
        "df = df[df['license_name'].str.strip() != '']\n",
        "#Top3\n",
        "top_3_licenses = df['license_name'].value_counts().head(3)\n",
        "for license_name, count in top_3_licenses.items():\n",
        "    print(f\"{license_name}: {count}\")\n"
      ]
    },
    {
      "cell_type": "code",
      "source": [
        "#4\n",
        "import pandas as pd\n",
        "#Read\n",
        "users_df = pd.read_csv('users.csv')\n",
        "company_counts = users_df['company'].value_counts()\n",
        "#Max\n",
        "most_common_company = company_counts.idxmax()\n",
        "print(most_common_company)\n"
      ],
      "metadata": {
        "colab": {
          "base_uri": "https://localhost:8080/"
        },
        "id": "mo1IX7iHyKYt",
        "outputId": "eb913456-abd5-4b1a-bd6b-a94ec3c83365"
      },
      "execution_count": null,
      "outputs": [
        {
          "output_type": "stream",
          "name": "stdout",
          "text": [
            "UNIVERSITY OF BASEL\n"
          ]
        }
      ]
    },
    {
      "cell_type": "code",
      "source": [
        "#5\n",
        "import pandas as pd\n",
        "#read\n",
        "repositories_df = pd.read_csv('repositories.csv')\n",
        "language_counts = repositories_df['language'].value_counts()\n",
        "#max\n",
        "most_popular_language = language_counts.idxmax()\n",
        "print(most_popular_language)\n"
      ],
      "metadata": {
        "colab": {
          "base_uri": "https://localhost:8080/"
        },
        "id": "C3Fw_N65yKmx",
        "outputId": "76455fc7-8506-4557-cc00-5063211adbf1"
      },
      "execution_count": null,
      "outputs": [
        {
          "output_type": "stream",
          "name": "stdout",
          "text": [
            "JavaScript\n"
          ]
        }
      ]
    },
    {
      "cell_type": "code",
      "execution_count": 118,
      "metadata": {
        "colab": {
          "base_uri": "https://localhost:8080/"
        },
        "id": "qmmVSjJteHq9",
        "outputId": "e8759b88-2f91-45cd-f508-5fcaf26d36ee"
      },
      "outputs": [
        {
          "output_type": "stream",
          "name": "stdout",
          "text": [
            "HTML\n"
          ]
        }
      ],
      "source": [
        "#6\n",
        "import pandas as pd\n",
        "from datetime import datetime\n",
        "#Read\n",
        "users_df = pd.read_csv('users.csv', parse_dates=['created_at'])\n",
        "repositories_df = pd.read_csv('repositories.csv')\n",
        "#Handling Timezone\n",
        "users_df['created_at'] = pd.to_datetime(users_df['created_at'], format='%Y-%m-%dT%H:%M:%SZ').dt.tz_localize(None)\n",
        "#Filter\n",
        "filtered_users = users_df[users_df['created_at'] > datetime(2020, 1, 1)]\n",
        "filtered_logins = filtered_users['login'].unique()\n",
        "filtered_repositories = repositories_df[repositories_df['login'].isin(filtered_logins)]\n",
        "#Frequency\n",
        "language_counts = filtered_repositories['language'].value_counts()\n",
        "#2nd Max\n",
        "second_most_popular_language = language_counts.index[1] if len(language_counts) > 1 else None\n",
        "print(second_most_popular_language)\n"
      ]
    },
    {
      "cell_type": "code",
      "execution_count": null,
      "metadata": {
        "colab": {
          "base_uri": "https://localhost:8080/"
        },
        "id": "SBBwVQfCaFiw",
        "outputId": "862ea23e-abcf-43f8-9b1a-fe4b6eff1844"
      },
      "outputs": [
        {
          "output_type": "stream",
          "name": "stdout",
          "text": [
            "PureScript\n"
          ]
        }
      ],
      "source": [
        "#7\n",
        "import pandas as pd\n",
        "#Read\n",
        "repositories_df = pd.read_csv('repositories.csv')\n",
        "# GroupBy language and Calculate Avg\n",
        "average_stars_by_language = repositories_df.groupby('language')['stargazers_count'].mean()\n",
        "#Max Avg Stars\n",
        "most_popular_language = average_stars_by_language.idxmax()\n",
        "highest_average_stars = average_stars_by_language.max()\n",
        "\n",
        "print(most_popular_language)\n"
      ]
    },
    {
      "cell_type": "code",
      "execution_count": null,
      "metadata": {
        "colab": {
          "base_uri": "https://localhost:8080/"
        },
        "id": "Y_L9qStmoLSE",
        "outputId": "706b5cc4-3662-4c9f-9b2a-7b3d69583ec1"
      },
      "outputs": [
        {
          "output_type": "stream",
          "name": "stdout",
          "text": [
            "dpryan79,wasserth,ravage84,elanmart,quadbiolab\n"
          ]
        }
      ],
      "source": [
        "#8\n",
        "import pandas as pd\n",
        "#Read\n",
        "users_df = pd.read_csv('users.csv')\n",
        "#Calculate Leader Strength\n",
        "users_df['leader_strength'] = users_df['followers'] / (1 + users_df['following'])\n",
        "#Sort\n",
        "sorted_users = users_df.sort_values(by='leader_strength', ascending=False)\n",
        "#Top5\n",
        "top_5_logins = sorted_users['login'].head(5).tolist()\n",
        "top_5_logins_str = ','.join(top_5_logins)\n",
        "print(top_5_logins_str)\n"
      ]
    },
    {
      "cell_type": "code",
      "execution_count": null,
      "metadata": {
        "colab": {
          "base_uri": "https://localhost:8080/"
        },
        "id": "TpoLsiBIo4SP",
        "outputId": "9a9b7825-528b-4441-9eef-5cfa688e8125"
      },
      "outputs": [
        {
          "output_type": "stream",
          "name": "stdout",
          "text": [
            "0.345\n"
          ]
        }
      ],
      "source": [
        "#9\n",
        "import pandas as pd\n",
        "#Read\n",
        "users_df = pd.read_csv('users.csv')\n",
        "#Corellation\n",
        "correlation = users_df['followers'].corr(users_df['public_repos'])\n",
        "rounded_correlation = round(correlation, 3)\n",
        "\n",
        "print(rounded_correlation)\n"
      ]
    },
    {
      "cell_type": "code",
      "execution_count": null,
      "metadata": {
        "colab": {
          "base_uri": "https://localhost:8080/"
        },
        "id": "mesqGpyLpS0o",
        "outputId": "1a39ee00-1920-491d-cc85-0016ccb5a5cc"
      },
      "outputs": [
        {
          "output_type": "stream",
          "name": "stdout",
          "text": [
            "0.674\n"
          ]
        }
      ],
      "source": [
        "#10\n",
        "import pandas as pd\n",
        "import statsmodels.api as sm\n",
        "#Read\n",
        "users_df = pd.read_csv('users.csv')\n",
        "#X and Y\n",
        "X = users_df['public_repos']\n",
        "y = users_df['followers']\n",
        "#Intercept\n",
        "X = sm.add_constant(X)\n",
        "#Linear Regression\n",
        "model = sm.OLS(y, X).fit()\n",
        "#Coefficient\n",
        "repo_coefficient = model.params['public_repos']\n",
        "print(f\"{repo_coefficient:.3f}\")\n"
      ]
    },
    {
      "cell_type": "code",
      "execution_count": null,
      "metadata": {
        "colab": {
          "base_uri": "https://localhost:8080/"
        },
        "id": "J3hmsY61piRC",
        "outputId": "8465f7ae-ea80-404b-a7c7-84fa46320bc2"
      },
      "outputs": [
        {
          "output_type": "stream",
          "name": "stdout",
          "text": [
            "0.262\n"
          ]
        }
      ],
      "source": [
        "#11\n",
        "import pandas as pd\n",
        "#read\n",
        "repositories_df = pd.read_csv('repositories.csv' , keep_default_na=False)\n",
        "#Corellation\n",
        "correlation = repositories_df['has_projects'].corr(repositories_df['has_wiki'])\n",
        "print(round(correlation, 3))\n"
      ]
    },
    {
      "cell_type": "code",
      "execution_count": null,
      "metadata": {
        "colab": {
          "base_uri": "https://localhost:8080/"
        },
        "id": "UnIcEmVxqjrs",
        "outputId": "2a39c074-da93-4bb8-bded-fc5a8882e0ea"
      },
      "outputs": [
        {
          "output_type": "stream",
          "name": "stdout",
          "text": [
            "45.899\n"
          ]
        }
      ],
      "source": [
        "#12\n",
        "import pandas as pd\n",
        "#read\n",
        "users_df = pd.read_csv('users.csv')\n",
        "#filter\n",
        "hireable_users = users_df[users_df['hireable'] == 'true']\n",
        "non_hireable_users = users_df[users_df['hireable'] != 'true']\n",
        "#Average\n",
        "avg_following_hireable = hireable_users['following'].mean()\n",
        "avg_following_non_hireable = non_hireable_users['following'].mean()\n",
        "#Diff\n",
        "difference = round(avg_following_hireable - avg_following_non_hireable, 3)\n",
        "print(difference)"
      ]
    },
    {
      "cell_type": "code",
      "execution_count": null,
      "metadata": {
        "colab": {
          "base_uri": "https://localhost:8080/"
        },
        "id": "mvnchUtaqyqR",
        "outputId": "07db78d8-6873-4b47-db03-a28bcc41513e"
      },
      "outputs": [
        {
          "output_type": "stream",
          "name": "stdout",
          "text": [
            "2.404\n"
          ]
        },
        {
          "output_type": "stream",
          "name": "stderr",
          "text": [
            "<ipython-input-105-d79a89f01f7f>:8: SettingWithCopyWarning: \n",
            "A value is trying to be set on a copy of a slice from a DataFrame.\n",
            "Try using .loc[row_indexer,col_indexer] = value instead\n",
            "\n",
            "See the caveats in the documentation: https://pandas.pydata.org/pandas-docs/stable/user_guide/indexing.html#returning-a-view-versus-a-copy\n",
            "  data_with_bios.loc[:, 'bio_word_count'] = data_with_bios['bio'].apply(lambda x: len(x.split()))\n"
          ]
        }
      ],
      "source": [
        "import pandas as pd\n",
        "from sklearn.linear_model import LinearRegression\n",
        "#read\n",
        "data = pd.read_csv('users.csv')\n",
        "#Filter\n",
        "data_with_bios = data.dropna(subset=['bio'])\n",
        "#wordcount\n",
        "data_with_bios.loc[:, 'bio_word_count'] = data_with_bios['bio'].apply(lambda x: len(x.split()))\n",
        "#X and Y\n",
        "X = data_with_bios['bio_word_count'].values.reshape(-1, 1)  # Independent variable\n",
        "y = data_with_bios['followers'].values  # Dependent variable\n",
        "regressor = LinearRegression()\n",
        "regressor.fit(X, y)\n",
        "#Slope\n",
        "slope = regressor.coef_[0]\n",
        "print(round(slope,3))\n"
      ]
    },
    {
      "cell_type": "code",
      "execution_count": null,
      "metadata": {
        "colab": {
          "base_uri": "https://localhost:8080/"
        },
        "id": "4KpKjPeQrMkK",
        "outputId": "146d6124-203a-4512-fa6a-30924a5ca468"
      },
      "outputs": [
        {
          "output_type": "stream",
          "name": "stdout",
          "text": [
            "dpryan79,syzer,ioolkos,maysam,pvillega\n"
          ]
        }
      ],
      "source": [
        "#14\n",
        "import csv\n",
        "from datetime import datetime\n",
        "#weekend repo dict\n",
        "weekend_repo_counts = {}\n",
        "#read\n",
        "with open('repositories.csv', newline='') as csvfile:\n",
        "    reader = csv.DictReader(csvfile)\n",
        "    for row in reader:\n",
        "        created_at = datetime.strptime(row['created_at'], '%Y-%m-%dT%H:%M:%SZ')\n",
        "        if created_at.weekday() in (5, 6):\n",
        "            login = row['login']\n",
        "            if login in weekend_repo_counts:\n",
        "                weekend_repo_counts[login] += 1\n",
        "            else:\n",
        "                weekend_repo_counts[login] = 1\n",
        "#Sort\n",
        "sorted_users = sorted(weekend_repo_counts.items(), key=lambda x: x[1], reverse=True)\n",
        "#Top5\n",
        "top_5_users = [user[0] for user in sorted_users[:5]]\n",
        "print(','.join(top_5_users))\n"
      ]
    },
    {
      "cell_type": "code",
      "execution_count": null,
      "metadata": {
        "id": "VwnUUZA_rtG_",
        "colab": {
          "base_uri": "https://localhost:8080/"
        },
        "outputId": "42afc2b3-2293-49ca-bff1-fd1a30573ab6"
      },
      "outputs": [
        {
          "output_type": "stream",
          "name": "stdout",
          "text": [
            "0.066\n"
          ]
        }
      ],
      "source": [
        "#15\n",
        "import pandas as pd\n",
        "#read\n",
        "users_df = pd.read_csv('users.csv')\n",
        "#filter\n",
        "hireable_users = users_df[users_df['hireable'] == 'true']\n",
        "non_hireable_users = users_df[users_df['hireable'] != 'true']\n",
        "#calculations\n",
        "fraction_with_email_hireable = hireable_users['email'].notna().mean()\n",
        "fraction_with_email_non_hireable = non_hireable_users['email'].notna().mean()\n",
        "#diff\n",
        "difference = fraction_with_email_hireable - fraction_with_email_non_hireable\n",
        "print(f\"{difference:.3f}\")\n"
      ]
    },
    {
      "cell_type": "code",
      "execution_count": null,
      "metadata": {
        "colab": {
          "base_uri": "https://localhost:8080/"
        },
        "id": "mWBnRkPirtTS",
        "outputId": "afc08cc0-8a70-4b13-c5cb-de7ee6a8e61d"
      },
      "outputs": [
        {
          "output_type": "stream",
          "name": "stdout",
          "text": [
            "Arnold,Brand,Christensen,Fink,GmbH,Group,Guggisberg,Landolt,Roth,Tan\n"
          ]
        }
      ],
      "source": [
        "#16\n",
        "import csv\n",
        "from collections import defaultdict\n",
        "surname_counts = defaultdict(int)\n",
        "#read\n",
        "with open('users.csv', newline='') as csvfile:\n",
        "    reader = csv.DictReader(csvfile)\n",
        "    for row in reader:\n",
        "        name = row['name'].strip() if row['name'] else ''\n",
        "        if name:\n",
        "            surname = name.split()[-1]\n",
        "            surname_counts[surname] += 1\n",
        "#max count\n",
        "max_count = max(surname_counts.values())\n",
        "#surnames with max count\n",
        "most_common_surnames = [surname for surname, count in surname_counts.items() if count == max_count]\n",
        "#Sort\n",
        "most_common_surnames.sort()\n",
        "print(','.join(most_common_surnames))\n"
      ]
    }
  ],
  "metadata": {
    "colab": {
      "provenance": []
    },
    "kernelspec": {
      "display_name": "Python 3",
      "name": "python3"
    },
    "language_info": {
      "name": "python"
    }
  },
  "nbformat": 4,
  "nbformat_minor": 0
}